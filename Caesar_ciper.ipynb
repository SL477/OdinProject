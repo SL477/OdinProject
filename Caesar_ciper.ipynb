{
 "cells": [
  {
   "cell_type": "markdown",
   "id": "6f11c3ef-7a12-498e-b2ed-fdc83ccc5323",
   "metadata": {},
   "source": [
    "# Caesar Cipher"
   ]
  },
  {
   "cell_type": "code",
   "execution_count": 1,
   "id": "700ab087-7b98-4182-9430-07fd8546041c",
   "metadata": {},
   "outputs": [],
   "source": [
    "$letters = \"abcdefghijklmnopqrstuvwxyz\"\n",
    "$letters.split(\"\").each_with_index {|val, index| letterArray[val] = index}\n",
    "$letterToNumber = Hash.new()\n",
    "$numberToLetter = Hash.new()\n",
    "\n",
    "$letters.split(\"\").each_with_index {|val, index| $letterToNumber[val] = index; $numberToLetter[index] = val}\n",
    "\n",
    "def encode_letter(letter_to_encode, shift_amount)\n",
    "    is_upper = letter_to_encode.upcase == letter_to_encode\n",
    "    if $letterToNumber.key?(letter_to_encode.downcase)\n",
    "        new_number = ($letterToNumber[letter_to_encode.downcase] + shift_amount) % $letters.length\n",
    "        new_letter = $numberToLetter[new_number]\n",
    "        if is_upper\n",
    "            return new_letter.upcase\n",
    "        else\n",
    "            return new_letter\n",
    "        end\n",
    "    else\n",
    "        return letter_to_encode\n",
    "    end\n",
    "end\n",
    "\n",
    "def caesar_cipher(string_to_encode, shift_amount)\n",
    "    encoded_string = \"\"\n",
    "    string_to_encode.split(\"\").each {|val| encoded_string.concat(encode_letter(val, shift_amount))}\n",
    "\n",
    "    encoded_string\n",
    "end\n",
    "\n",
    "caesar_cipher(\"What a string!\", 5)"
   ]
  }
 ],
 "metadata": {
  "kernelspec": {
   "display_name": "Ruby 3.1.2",
   "language": "ruby",
   "name": "ruby"
  },
  "language_info": {
   "file_extension": ".rb",
   "mimetype": "application/x-ruby",
   "name": "ruby",
   "version": "3.1.2"
  }
 },
 "nbformat": 4,
 "nbformat_minor": 5
}
